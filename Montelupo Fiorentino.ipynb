{
 "cells": [
  {
   "cell_type": "markdown",
   "metadata": {},
   "source": [
    "# Info"
   ]
  },
  {
   "cell_type": "code",
   "execution_count": 319,
   "metadata": {
    "collapsed": true
   },
   "outputs": [],
   "source": [
    "# Dati a corredo dell'articolo d Sfide Metropolitane: \"Firenze - Montelupo Fiorentino, 37.4 km\"\n",
    "# url articolo: https://medium.com/@SfideMetropolitane/firenze-montelupo-fiorentino-37-4-109bb2fcbcb0#.bq7rlsa4t"
   ]
  },
  {
   "cell_type": "markdown",
   "metadata": {},
   "source": [
    "# Importazione librerie"
   ]
  },
  {
   "cell_type": "code",
   "execution_count": 320,
   "metadata": {
    "collapsed": true
   },
   "outputs": [],
   "source": [
    "import pandas as pd\n",
    "import matplotlib.pyplot as plt\n",
    "%matplotlib inline"
   ]
  },
  {
   "cell_type": "markdown",
   "metadata": {},
   "source": [
    "# Importazione dati"
   ]
  },
  {
   "cell_type": "code",
   "execution_count": 321,
   "metadata": {
    "collapsed": false
   },
   "outputs": [],
   "source": [
    "url_dati_2014 = \"http://dati.toscana.it/dataset/rt-movtur-2014\"\n",
    "url_dati_2013 = \"http://dati.toscana.it/dataset/rt-movtur\"\n",
    "\n",
    "df_2014 = pd.read_csv (\"movimentopercomune2014.csv\", sep=\";\", encoding='latin1', index_col=\"Comune (denominazione)\")\n",
    "df_2013 = pd.read_csv (\"movimentopercomune2013.csv\", sep=\",\", encoding='latin1', index_col=\"Comune (denominazione)\")"
   ]
  },
  {
   "cell_type": "markdown",
   "metadata": {},
   "source": [
    "# Movimenti turistici 2014 Montelupo Fiorentino"
   ]
  },
  {
   "cell_type": "code",
   "execution_count": 322,
   "metadata": {
    "collapsed": false
   },
   "outputs": [
    {
     "data": {
      "text/html": [
       "<div>\n",
       "<table border=\"1\" class=\"dataframe\">\n",
       "  <thead>\n",
       "    <tr style=\"text-align: right;\">\n",
       "      <th></th>\n",
       "      <th>Provenienza</th>\n",
       "      <th>arrivi</th>\n",
       "      <th>presenze</th>\n",
       "    </tr>\n",
       "    <tr>\n",
       "      <th>Comune (denominazione)</th>\n",
       "      <th></th>\n",
       "      <th></th>\n",
       "      <th></th>\n",
       "    </tr>\n",
       "  </thead>\n",
       "  <tbody>\n",
       "    <tr>\n",
       "      <th>Montelupo Fiorentino</th>\n",
       "      <td>Italiani</td>\n",
       "      <td>6604</td>\n",
       "      <td>14237</td>\n",
       "    </tr>\n",
       "    <tr>\n",
       "      <th>Montelupo Fiorentino</th>\n",
       "      <td>Stranieri</td>\n",
       "      <td>2907</td>\n",
       "      <td>10968</td>\n",
       "    </tr>\n",
       "  </tbody>\n",
       "</table>\n",
       "</div>"
      ],
      "text/plain": [
       "                       Provenienza  arrivi  presenze\n",
       "Comune (denominazione)                              \n",
       "Montelupo Fiorentino      Italiani    6604     14237\n",
       "Montelupo Fiorentino     Stranieri    2907     10968"
      ]
     },
     "execution_count": 322,
     "metadata": {},
     "output_type": "execute_result"
    }
   ],
   "source": [
    "# Arrivi e presenze 2014 per provenienza\n",
    "\n",
    "df_montelupo_2014 = df_2014.loc[\"Montelupo Fiorentino\"]\n",
    "df_montelupo_2014 = df_montelupo_2014[[\"Provenienza\", \"arrivi\", \"presenze\"]]\n",
    "df_montelupo_2014"
   ]
  },
  {
   "cell_type": "code",
   "execution_count": 323,
   "metadata": {
    "collapsed": false
   },
   "outputs": [
    {
     "data": {
      "text/html": [
       "<div>\n",
       "<table border=\"1\" class=\"dataframe\">\n",
       "  <thead>\n",
       "    <tr style=\"text-align: right;\">\n",
       "      <th></th>\n",
       "      <th>arrivi</th>\n",
       "      <th>presenze</th>\n",
       "    </tr>\n",
       "    <tr>\n",
       "      <th>Comune (denominazione)</th>\n",
       "      <th></th>\n",
       "      <th></th>\n",
       "    </tr>\n",
       "  </thead>\n",
       "  <tbody>\n",
       "    <tr>\n",
       "      <th>Montelupo Fiorentino</th>\n",
       "      <td>9511</td>\n",
       "      <td>25205</td>\n",
       "    </tr>\n",
       "  </tbody>\n",
       "</table>\n",
       "</div>"
      ],
      "text/plain": [
       "                        arrivi  presenze\n",
       "Comune (denominazione)                  \n",
       "Montelupo Fiorentino      9511     25205"
      ]
     },
     "execution_count": 323,
     "metadata": {},
     "output_type": "execute_result"
    }
   ],
   "source": [
    "# TOTALE arrivi e presenze 2014\n",
    "\n",
    "totale_montelupo_2014 = df_montelupo_2014.reset_index().groupby(\"Comune (denominazione)\").sum()\n",
    "totale_montelupo_2014"
   ]
  },
  {
   "cell_type": "markdown",
   "metadata": {},
   "source": [
    "# Movimenti turistici 2013 Montelupo Fiorentino"
   ]
  },
  {
   "cell_type": "code",
   "execution_count": 324,
   "metadata": {
    "collapsed": false
   },
   "outputs": [
    {
     "data": {
      "text/html": [
       "<div>\n",
       "<table border=\"1\" class=\"dataframe\">\n",
       "  <thead>\n",
       "    <tr style=\"text-align: right;\">\n",
       "      <th></th>\n",
       "      <th>Provenienza</th>\n",
       "      <th>arrivi</th>\n",
       "      <th>presenze</th>\n",
       "    </tr>\n",
       "    <tr>\n",
       "      <th>Comune (denominazione)</th>\n",
       "      <th></th>\n",
       "      <th></th>\n",
       "      <th></th>\n",
       "    </tr>\n",
       "  </thead>\n",
       "  <tbody>\n",
       "    <tr>\n",
       "      <th>Montelupo Fiorentino</th>\n",
       "      <td>Italiani</td>\n",
       "      <td>6194.0</td>\n",
       "      <td>19188.0</td>\n",
       "    </tr>\n",
       "    <tr>\n",
       "      <th>Montelupo Fiorentino</th>\n",
       "      <td>Stranieri</td>\n",
       "      <td>2986.0</td>\n",
       "      <td>16015.0</td>\n",
       "    </tr>\n",
       "    <tr>\n",
       "      <th>Montelupo Fiorentino</th>\n",
       "      <td>Totale</td>\n",
       "      <td>9180.0</td>\n",
       "      <td>35203.0</td>\n",
       "    </tr>\n",
       "  </tbody>\n",
       "</table>\n",
       "</div>"
      ],
      "text/plain": [
       "                       Provenienza  arrivi  presenze\n",
       "Comune (denominazione)                              \n",
       "Montelupo Fiorentino      Italiani  6194.0   19188.0\n",
       "Montelupo Fiorentino     Stranieri  2986.0   16015.0\n",
       "Montelupo Fiorentino        Totale  9180.0   35203.0"
      ]
     },
     "execution_count": 324,
     "metadata": {},
     "output_type": "execute_result"
    }
   ],
   "source": [
    "df_montelupo_2013 = df_2013.loc[\"Montelupo Fiorentino\"]\n",
    "df_montelupo_2013 = df_montelupo_2013[[\"Provenienza\", \"arrivi\", \"presenze\"]]\n",
    "df_montelupo_2013"
   ]
  },
  {
   "cell_type": "markdown",
   "metadata": {},
   "source": [
    "# Var% arrivi 2013-2014"
   ]
  },
  {
   "cell_type": "code",
   "execution_count": 325,
   "metadata": {
    "collapsed": true
   },
   "outputs": [],
   "source": [
    "raccordo = dict(zip(df_montelupo_2013.index.unique().tolist(), df_montelupo_2014.index.unique().tolist()))\n",
    "\n",
    "def dizionario(x):\n",
    "  try:\n",
    "      return raccordo[x]\n",
    "  except:\n",
    "      return \"\"\n",
    "    \n",
    "df_2013[\"arrivi\"] = df_2013[\"arrivi\"].apply(lambda x: dizionario(x))"
   ]
  },
  {
   "cell_type": "code",
   "execution_count": 326,
   "metadata": {
    "collapsed": false
   },
   "outputs": [
    {
     "data": {
      "text/plain": [
       "Comune (denominazione)\n",
       "Montelupo Fiorentino      6.619309\n",
       "Montelupo Fiorentino    121.165439\n",
       "Montelupo Fiorentino    -28.061002\n",
       "Montelupo Fiorentino    -53.067485\n",
       "Montelupo Fiorentino     -2.645680\n",
       "Montelupo Fiorentino    -68.333333\n",
       "Name: arrivi, dtype: float64"
      ]
     },
     "execution_count": 326,
     "metadata": {},
     "output_type": "execute_result"
    }
   ],
   "source": [
    "df_var_arrivi = df_montelupo_2014[\"arrivi\"] / df_montelupo_2013[\"arrivi\"] *100-100\n",
    "df_var_arrivi"
   ]
  },
  {
   "cell_type": "markdown",
   "metadata": {},
   "source": [
    "# Var% presenze 2013-2014"
   ]
  },
  {
   "cell_type": "code",
   "execution_count": 327,
   "metadata": {
    "collapsed": false,
    "scrolled": true
   },
   "outputs": [
    {
     "data": {
      "text/plain": [
       "Comune (denominazione)\n",
       "Montelupo Fiorentino   -25.802585\n",
       "Montelupo Fiorentino   -11.102092\n",
       "Montelupo Fiorentino   -59.557424\n",
       "Montelupo Fiorentino   -42.839275\n",
       "Montelupo Fiorentino   -31.514205\n",
       "Montelupo Fiorentino   -68.843564\n",
       "Name: presenze, dtype: float64"
      ]
     },
     "execution_count": 327,
     "metadata": {},
     "output_type": "execute_result"
    }
   ],
   "source": [
    "df_var_presenze = df_montelupo_2014[\"presenze\"] / df_montelupo_2013[\"presenze\"] *100-100\n",
    "df_var_presenze"
   ]
  },
  {
   "cell_type": "code",
   "execution_count": null,
   "metadata": {
    "collapsed": true
   },
   "outputs": [],
   "source": []
  }
 ],
 "metadata": {
  "kernelspec": {
   "display_name": "Python 2",
   "language": "python",
   "name": "python2"
  },
  "language_info": {
   "codemirror_mode": {
    "name": "ipython",
    "version": 2
   },
   "file_extension": ".py",
   "mimetype": "text/x-python",
   "name": "python",
   "nbconvert_exporter": "python",
   "pygments_lexer": "ipython2",
   "version": "2.7.11"
  }
 },
 "nbformat": 4,
 "nbformat_minor": 0
}
